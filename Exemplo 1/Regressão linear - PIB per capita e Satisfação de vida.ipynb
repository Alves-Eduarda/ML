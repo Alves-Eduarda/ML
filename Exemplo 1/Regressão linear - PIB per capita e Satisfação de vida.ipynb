{
 "cells": [
  {
   "cell_type": "code",
   "execution_count": 669,
   "metadata": {},
   "outputs": [],
   "source": [
    "import pandas as pd\n",
    "import numpy as np\n",
    "import matplotlib.pyplot as plt\n",
    "from sklearn.linear_model import LinearRegression\n",
    "from sklearn.model_selection import train_test_split\n",
    "%matplotlib inline"
   ]
  },
  {
   "cell_type": "code",
   "execution_count": 670,
   "metadata": {},
   "outputs": [],
   "source": [
    "# Importando os datasets\n",
    "path = r\"C:\\Users\\Eduarda\\Documents\\Data Analysis\\ML\"\n",
    "df1 = pd.read_csv(path + \"\\LIFE.csv\",delimiter=',')\n",
    "df2 = pd.read_csv(path + \"/PIB.csv\",sep='delimiter',engine='python',delimiter=';')"
   ]
  },
  {
   "cell_type": "code",
   "execution_count": 671,
   "metadata": {},
   "outputs": [
    {
     "data": {
      "text/html": [
       "<div>\n",
       "<style scoped>\n",
       "    .dataframe tbody tr th:only-of-type {\n",
       "        vertical-align: middle;\n",
       "    }\n",
       "\n",
       "    .dataframe tbody tr th {\n",
       "        vertical-align: top;\n",
       "    }\n",
       "\n",
       "    .dataframe thead th {\n",
       "        text-align: right;\n",
       "    }\n",
       "</style>\n",
       "<table border=\"1\" class=\"dataframe\">\n",
       "  <thead>\n",
       "    <tr style=\"text-align: right;\">\n",
       "      <th></th>\n",
       "      <th>LOCATION</th>\n",
       "      <th>Country</th>\n",
       "      <th>INDICATOR</th>\n",
       "      <th>Indicator</th>\n",
       "      <th>MEASURE</th>\n",
       "      <th>Measure</th>\n",
       "      <th>INEQUALITY</th>\n",
       "      <th>Inequality</th>\n",
       "      <th>Unit Code</th>\n",
       "      <th>Unit</th>\n",
       "      <th>PowerCode Code</th>\n",
       "      <th>PowerCode</th>\n",
       "      <th>Reference Period Code</th>\n",
       "      <th>Reference Period</th>\n",
       "      <th>Value</th>\n",
       "      <th>Flag Codes</th>\n",
       "      <th>Flags</th>\n",
       "    </tr>\n",
       "  </thead>\n",
       "  <tbody>\n",
       "    <tr>\n",
       "      <th>0</th>\n",
       "      <td>AUS</td>\n",
       "      <td>Australia</td>\n",
       "      <td>JE_LMIS</td>\n",
       "      <td>Labour market insecurity</td>\n",
       "      <td>L</td>\n",
       "      <td>Value</td>\n",
       "      <td>TOT</td>\n",
       "      <td>Total</td>\n",
       "      <td>PC</td>\n",
       "      <td>Percentage</td>\n",
       "      <td>0</td>\n",
       "      <td>Units</td>\n",
       "      <td>NaN</td>\n",
       "      <td>NaN</td>\n",
       "      <td>5.4</td>\n",
       "      <td>NaN</td>\n",
       "      <td>NaN</td>\n",
       "    </tr>\n",
       "    <tr>\n",
       "      <th>1</th>\n",
       "      <td>AUT</td>\n",
       "      <td>Austria</td>\n",
       "      <td>JE_LMIS</td>\n",
       "      <td>Labour market insecurity</td>\n",
       "      <td>L</td>\n",
       "      <td>Value</td>\n",
       "      <td>TOT</td>\n",
       "      <td>Total</td>\n",
       "      <td>PC</td>\n",
       "      <td>Percentage</td>\n",
       "      <td>0</td>\n",
       "      <td>Units</td>\n",
       "      <td>NaN</td>\n",
       "      <td>NaN</td>\n",
       "      <td>3.5</td>\n",
       "      <td>NaN</td>\n",
       "      <td>NaN</td>\n",
       "    </tr>\n",
       "    <tr>\n",
       "      <th>2</th>\n",
       "      <td>BEL</td>\n",
       "      <td>Belgium</td>\n",
       "      <td>JE_LMIS</td>\n",
       "      <td>Labour market insecurity</td>\n",
       "      <td>L</td>\n",
       "      <td>Value</td>\n",
       "      <td>TOT</td>\n",
       "      <td>Total</td>\n",
       "      <td>PC</td>\n",
       "      <td>Percentage</td>\n",
       "      <td>0</td>\n",
       "      <td>Units</td>\n",
       "      <td>NaN</td>\n",
       "      <td>NaN</td>\n",
       "      <td>3.7</td>\n",
       "      <td>NaN</td>\n",
       "      <td>NaN</td>\n",
       "    </tr>\n",
       "    <tr>\n",
       "      <th>3</th>\n",
       "      <td>CAN</td>\n",
       "      <td>Canada</td>\n",
       "      <td>JE_LMIS</td>\n",
       "      <td>Labour market insecurity</td>\n",
       "      <td>L</td>\n",
       "      <td>Value</td>\n",
       "      <td>TOT</td>\n",
       "      <td>Total</td>\n",
       "      <td>PC</td>\n",
       "      <td>Percentage</td>\n",
       "      <td>0</td>\n",
       "      <td>Units</td>\n",
       "      <td>NaN</td>\n",
       "      <td>NaN</td>\n",
       "      <td>6.0</td>\n",
       "      <td>NaN</td>\n",
       "      <td>NaN</td>\n",
       "    </tr>\n",
       "    <tr>\n",
       "      <th>4</th>\n",
       "      <td>CZE</td>\n",
       "      <td>Czech Republic</td>\n",
       "      <td>JE_LMIS</td>\n",
       "      <td>Labour market insecurity</td>\n",
       "      <td>L</td>\n",
       "      <td>Value</td>\n",
       "      <td>TOT</td>\n",
       "      <td>Total</td>\n",
       "      <td>PC</td>\n",
       "      <td>Percentage</td>\n",
       "      <td>0</td>\n",
       "      <td>Units</td>\n",
       "      <td>NaN</td>\n",
       "      <td>NaN</td>\n",
       "      <td>3.1</td>\n",
       "      <td>NaN</td>\n",
       "      <td>NaN</td>\n",
       "    </tr>\n",
       "  </tbody>\n",
       "</table>\n",
       "</div>"
      ],
      "text/plain": [
       "  LOCATION         Country INDICATOR                 Indicator MEASURE  \\\n",
       "0      AUS       Australia   JE_LMIS  Labour market insecurity       L   \n",
       "1      AUT         Austria   JE_LMIS  Labour market insecurity       L   \n",
       "2      BEL         Belgium   JE_LMIS  Labour market insecurity       L   \n",
       "3      CAN          Canada   JE_LMIS  Labour market insecurity       L   \n",
       "4      CZE  Czech Republic   JE_LMIS  Labour market insecurity       L   \n",
       "\n",
       "  Measure INEQUALITY Inequality Unit Code        Unit  PowerCode Code  \\\n",
       "0   Value        TOT      Total        PC  Percentage               0   \n",
       "1   Value        TOT      Total        PC  Percentage               0   \n",
       "2   Value        TOT      Total        PC  Percentage               0   \n",
       "3   Value        TOT      Total        PC  Percentage               0   \n",
       "4   Value        TOT      Total        PC  Percentage               0   \n",
       "\n",
       "  PowerCode  Reference Period Code  Reference Period  Value  Flag Codes  Flags  \n",
       "0     Units                    NaN               NaN    5.4         NaN    NaN  \n",
       "1     Units                    NaN               NaN    3.5         NaN    NaN  \n",
       "2     Units                    NaN               NaN    3.7         NaN    NaN  \n",
       "3     Units                    NaN               NaN    6.0         NaN    NaN  \n",
       "4     Units                    NaN               NaN    3.1         NaN    NaN  "
      ]
     },
     "execution_count": 671,
     "metadata": {},
     "output_type": "execute_result"
    }
   ],
   "source": [
    "df1.head()"
   ]
  },
  {
   "cell_type": "code",
   "execution_count": 672,
   "metadata": {},
   "outputs": [],
   "source": [
    "df1 = df1.loc[(df1['Indicator'] == 'Life satisfaction') & (df1['INEQUALITY'] == 'TOT')]"
   ]
  },
  {
   "cell_type": "code",
   "execution_count": 673,
   "metadata": {},
   "outputs": [
    {
     "data": {
      "text/html": [
       "<div>\n",
       "<style scoped>\n",
       "    .dataframe tbody tr th:only-of-type {\n",
       "        vertical-align: middle;\n",
       "    }\n",
       "\n",
       "    .dataframe tbody tr th {\n",
       "        vertical-align: top;\n",
       "    }\n",
       "\n",
       "    .dataframe thead th {\n",
       "        text-align: right;\n",
       "    }\n",
       "</style>\n",
       "<table border=\"1\" class=\"dataframe\">\n",
       "  <thead>\n",
       "    <tr style=\"text-align: right;\">\n",
       "      <th></th>\n",
       "      <th>WEO Country Code</th>\n",
       "      <th>ISO</th>\n",
       "      <th>WEO Subject Code</th>\n",
       "      <th>Country</th>\n",
       "      <th>Subject Descriptor</th>\n",
       "      <th>Subject Notes</th>\n",
       "      <th>Units</th>\n",
       "      <th>Scale</th>\n",
       "      <th>Country/Series-specific Notes</th>\n",
       "      <th>1980</th>\n",
       "      <th>...</th>\n",
       "      <th>2017</th>\n",
       "      <th>2018</th>\n",
       "      <th>2019</th>\n",
       "      <th>2020</th>\n",
       "      <th>2021</th>\n",
       "      <th>2022</th>\n",
       "      <th>2023</th>\n",
       "      <th>2024</th>\n",
       "      <th>2025</th>\n",
       "      <th>Estimates Start After</th>\n",
       "    </tr>\n",
       "  </thead>\n",
       "  <tbody>\n",
       "    <tr>\n",
       "      <th>0</th>\n",
       "      <td>512</td>\n",
       "      <td>AFG</td>\n",
       "      <td>NGDP_R</td>\n",
       "      <td>Afghanistan</td>\n",
       "      <td>Gross domestic product, constant prices</td>\n",
       "      <td>Expressed in billions of national currency uni...</td>\n",
       "      <td>National currency</td>\n",
       "      <td>Billions</td>\n",
       "      <td>Source: National Statistics Office Latest actu...</td>\n",
       "      <td>NaN</td>\n",
       "      <td>...</td>\n",
       "      <td>1,255.288</td>\n",
       "      <td>1,270.216</td>\n",
       "      <td>1,319.902</td>\n",
       "      <td>1,253.906</td>\n",
       "      <td>1,304.063</td>\n",
       "      <td>1,363.060</td>\n",
       "      <td>1,424.397</td>\n",
       "      <td>1,481.497</td>\n",
       "      <td>1,540.937</td>\n",
       "      <td>2019.0</td>\n",
       "    </tr>\n",
       "    <tr>\n",
       "      <th>1</th>\n",
       "      <td>512</td>\n",
       "      <td>AFG</td>\n",
       "      <td>NGDP_RPCH</td>\n",
       "      <td>Afghanistan</td>\n",
       "      <td>Gross domestic product, constant prices</td>\n",
       "      <td>Annual percentages of constant price GDP are y...</td>\n",
       "      <td>Percent change</td>\n",
       "      <td>NaN</td>\n",
       "      <td>See notes for:  Gross domestic product, consta...</td>\n",
       "      <td>NaN</td>\n",
       "      <td>...</td>\n",
       "      <td>2.647</td>\n",
       "      <td>1.189</td>\n",
       "      <td>3.912</td>\n",
       "      <td>-5.000</td>\n",
       "      <td>4.000</td>\n",
       "      <td>4.524</td>\n",
       "      <td>4.500</td>\n",
       "      <td>4.009</td>\n",
       "      <td>4.012</td>\n",
       "      <td>2019.0</td>\n",
       "    </tr>\n",
       "    <tr>\n",
       "      <th>2</th>\n",
       "      <td>512</td>\n",
       "      <td>AFG</td>\n",
       "      <td>NGDP</td>\n",
       "      <td>Afghanistan</td>\n",
       "      <td>Gross domestic product, current prices</td>\n",
       "      <td>Expressed in billions of national currency uni...</td>\n",
       "      <td>National currency</td>\n",
       "      <td>Billions</td>\n",
       "      <td>Source: National Statistics Office Latest actu...</td>\n",
       "      <td>NaN</td>\n",
       "      <td>...</td>\n",
       "      <td>1,285.460</td>\n",
       "      <td>1,327.690</td>\n",
       "      <td>1,469.596</td>\n",
       "      <td>1,465.922</td>\n",
       "      <td>1,597.738</td>\n",
       "      <td>1,741.832</td>\n",
       "      <td>1,893.023</td>\n",
       "      <td>2,047.665</td>\n",
       "      <td>2,215.013</td>\n",
       "      <td>2019.0</td>\n",
       "    </tr>\n",
       "    <tr>\n",
       "      <th>3</th>\n",
       "      <td>512</td>\n",
       "      <td>AFG</td>\n",
       "      <td>NGDPD</td>\n",
       "      <td>Afghanistan</td>\n",
       "      <td>Gross domestic product, current prices</td>\n",
       "      <td>Values are based upon GDP in national currency...</td>\n",
       "      <td>U.S. dollars</td>\n",
       "      <td>Billions</td>\n",
       "      <td>See notes for:  Gross domestic product, curren...</td>\n",
       "      <td>NaN</td>\n",
       "      <td>...</td>\n",
       "      <td>18.910</td>\n",
       "      <td>18.401</td>\n",
       "      <td>18.876</td>\n",
       "      <td>19.006</td>\n",
       "      <td>19.692</td>\n",
       "      <td>20.829</td>\n",
       "      <td>22.022</td>\n",
       "      <td>23.169</td>\n",
       "      <td>24.372</td>\n",
       "      <td>2019.0</td>\n",
       "    </tr>\n",
       "    <tr>\n",
       "      <th>4</th>\n",
       "      <td>512</td>\n",
       "      <td>AFG</td>\n",
       "      <td>PPPGDP</td>\n",
       "      <td>Afghanistan</td>\n",
       "      <td>Gross domestic product, current prices</td>\n",
       "      <td>These data form the basis for the country weig...</td>\n",
       "      <td>Purchasing power parity; international dollars</td>\n",
       "      <td>Billions</td>\n",
       "      <td>See notes for:  Gross domestic product, curren...</td>\n",
       "      <td>NaN</td>\n",
       "      <td>...</td>\n",
       "      <td>74.712</td>\n",
       "      <td>77.416</td>\n",
       "      <td>81.880</td>\n",
       "      <td>78.884</td>\n",
       "      <td>83.852</td>\n",
       "      <td>89.205</td>\n",
       "      <td>94.908</td>\n",
       "      <td>100.600</td>\n",
       "      <td>106.685</td>\n",
       "      <td>2019.0</td>\n",
       "    </tr>\n",
       "  </tbody>\n",
       "</table>\n",
       "<p>5 rows × 56 columns</p>\n",
       "</div>"
      ],
      "text/plain": [
       "  WEO Country Code  ISO WEO Subject Code      Country  \\\n",
       "0              512  AFG           NGDP_R  Afghanistan   \n",
       "1              512  AFG        NGDP_RPCH  Afghanistan   \n",
       "2              512  AFG             NGDP  Afghanistan   \n",
       "3              512  AFG            NGDPD  Afghanistan   \n",
       "4              512  AFG           PPPGDP  Afghanistan   \n",
       "\n",
       "                        Subject Descriptor  \\\n",
       "0  Gross domestic product, constant prices   \n",
       "1  Gross domestic product, constant prices   \n",
       "2   Gross domestic product, current prices   \n",
       "3   Gross domestic product, current prices   \n",
       "4   Gross domestic product, current prices   \n",
       "\n",
       "                                       Subject Notes  \\\n",
       "0  Expressed in billions of national currency uni...   \n",
       "1  Annual percentages of constant price GDP are y...   \n",
       "2  Expressed in billions of national currency uni...   \n",
       "3  Values are based upon GDP in national currency...   \n",
       "4  These data form the basis for the country weig...   \n",
       "\n",
       "                                            Units     Scale  \\\n",
       "0                               National currency  Billions   \n",
       "1                                  Percent change       NaN   \n",
       "2                               National currency  Billions   \n",
       "3                                    U.S. dollars  Billions   \n",
       "4  Purchasing power parity; international dollars  Billions   \n",
       "\n",
       "                       Country/Series-specific Notes 1980  ...       2017  \\\n",
       "0  Source: National Statistics Office Latest actu...  NaN  ...  1,255.288   \n",
       "1  See notes for:  Gross domestic product, consta...  NaN  ...      2.647   \n",
       "2  Source: National Statistics Office Latest actu...  NaN  ...  1,285.460   \n",
       "3  See notes for:  Gross domestic product, curren...  NaN  ...     18.910   \n",
       "4  See notes for:  Gross domestic product, curren...  NaN  ...     74.712   \n",
       "\n",
       "        2018       2019       2020       2021       2022       2023  \\\n",
       "0  1,270.216  1,319.902  1,253.906  1,304.063  1,363.060  1,424.397   \n",
       "1      1.189      3.912     -5.000      4.000      4.524      4.500   \n",
       "2  1,327.690  1,469.596  1,465.922  1,597.738  1,741.832  1,893.023   \n",
       "3     18.401     18.876     19.006     19.692     20.829     22.022   \n",
       "4     77.416     81.880     78.884     83.852     89.205     94.908   \n",
       "\n",
       "        2024       2025 Estimates Start After  \n",
       "0  1,481.497  1,540.937                2019.0  \n",
       "1      4.009      4.012                2019.0  \n",
       "2  2,047.665  2,215.013                2019.0  \n",
       "3     23.169     24.372                2019.0  \n",
       "4    100.600    106.685                2019.0  \n",
       "\n",
       "[5 rows x 56 columns]"
      ]
     },
     "execution_count": 673,
     "metadata": {},
     "output_type": "execute_result"
    }
   ],
   "source": [
    "df2.head()"
   ]
  },
  {
   "cell_type": "code",
   "execution_count": 674,
   "metadata": {},
   "outputs": [],
   "source": [
    "df2 = df2.loc[(df2['Subject Descriptor'] == 'Gross domestic product per capita, current prices') & (df2['Units'] == 'U.S. dollars')]"
   ]
  },
  {
   "cell_type": "code",
   "execution_count": 675,
   "metadata": {},
   "outputs": [
    {
     "data": {
      "text/html": [
       "<div>\n",
       "<style scoped>\n",
       "    .dataframe tbody tr th:only-of-type {\n",
       "        vertical-align: middle;\n",
       "    }\n",
       "\n",
       "    .dataframe tbody tr th {\n",
       "        vertical-align: top;\n",
       "    }\n",
       "\n",
       "    .dataframe thead th {\n",
       "        text-align: right;\n",
       "    }\n",
       "</style>\n",
       "<table border=\"1\" class=\"dataframe\">\n",
       "  <thead>\n",
       "    <tr style=\"text-align: right;\">\n",
       "      <th></th>\n",
       "      <th>WEO Country Code</th>\n",
       "      <th>ISO</th>\n",
       "      <th>WEO Subject Code</th>\n",
       "      <th>Country</th>\n",
       "      <th>Subject Descriptor</th>\n",
       "      <th>Subject Notes</th>\n",
       "      <th>Units</th>\n",
       "      <th>Scale</th>\n",
       "      <th>Country/Series-specific Notes</th>\n",
       "      <th>1980</th>\n",
       "      <th>...</th>\n",
       "      <th>2017</th>\n",
       "      <th>2018</th>\n",
       "      <th>2019</th>\n",
       "      <th>2020</th>\n",
       "      <th>2021</th>\n",
       "      <th>2022</th>\n",
       "      <th>2023</th>\n",
       "      <th>2024</th>\n",
       "      <th>2025</th>\n",
       "      <th>Estimates Start After</th>\n",
       "    </tr>\n",
       "  </thead>\n",
       "  <tbody>\n",
       "    <tr>\n",
       "      <th>1044</th>\n",
       "      <td>223</td>\n",
       "      <td>BRA</td>\n",
       "      <td>NGDPDPC</td>\n",
       "      <td>Brazil</td>\n",
       "      <td>Gross domestic product per capita, current prices</td>\n",
       "      <td>GDP is expressed in current U.S. dollars per p...</td>\n",
       "      <td>U.S. dollars</td>\n",
       "      <td>Units</td>\n",
       "      <td>See notes for:  Gross domestic product, curren...</td>\n",
       "      <td>1,229.883</td>\n",
       "      <td>...</td>\n",
       "      <td>9,974.814</td>\n",
       "      <td>9,043.237</td>\n",
       "      <td>8,751.381</td>\n",
       "      <td>6,450.451</td>\n",
       "      <td>6,728.166</td>\n",
       "      <td>7,299.091</td>\n",
       "      <td>7,736.761</td>\n",
       "      <td>8,252.807</td>\n",
       "      <td>8,690.040</td>\n",
       "      <td>2019.0</td>\n",
       "    </tr>\n",
       "  </tbody>\n",
       "</table>\n",
       "<p>1 rows × 56 columns</p>\n",
       "</div>"
      ],
      "text/plain": [
       "     WEO Country Code  ISO WEO Subject Code Country  \\\n",
       "1044              223  BRA          NGDPDPC  Brazil   \n",
       "\n",
       "                                     Subject Descriptor  \\\n",
       "1044  Gross domestic product per capita, current prices   \n",
       "\n",
       "                                          Subject Notes         Units  Scale  \\\n",
       "1044  GDP is expressed in current U.S. dollars per p...  U.S. dollars  Units   \n",
       "\n",
       "                          Country/Series-specific Notes       1980  ...  \\\n",
       "1044  See notes for:  Gross domestic product, curren...  1,229.883  ...   \n",
       "\n",
       "           2017       2018       2019       2020       2021       2022  \\\n",
       "1044  9,974.814  9,043.237  8,751.381  6,450.451  6,728.166  7,299.091   \n",
       "\n",
       "           2023       2024       2025 Estimates Start After  \n",
       "1044  7,736.761  8,252.807  8,690.040                2019.0  \n",
       "\n",
       "[1 rows x 56 columns]"
      ]
     },
     "execution_count": 675,
     "metadata": {},
     "output_type": "execute_result"
    }
   ],
   "source": [
    "df2.loc[df2['Country'] == 'Brazil']"
   ]
  },
  {
   "cell_type": "code",
   "execution_count": 676,
   "metadata": {},
   "outputs": [],
   "source": [
    "life = df1[['Country','Value']].copy()\n",
    "pib = df2[['Country','2019']].copy()\n",
    "pib_life = pd.merge(pib,life,how='left',on='Country')"
   ]
  },
  {
   "cell_type": "code",
   "execution_count": 677,
   "metadata": {},
   "outputs": [
    {
     "data": {
      "text/plain": [
       "Country      0\n",
       "2019         2\n",
       "Value      155\n",
       "dtype: int64"
      ]
     },
     "execution_count": 677,
     "metadata": {},
     "output_type": "execute_result"
    }
   ],
   "source": [
    "pib_life.isnull().sum()"
   ]
  },
  {
   "cell_type": "code",
   "execution_count": 678,
   "metadata": {},
   "outputs": [
    {
     "data": {
      "text/plain": [
       "Country     object\n",
       "2019        object\n",
       "Value      float64\n",
       "dtype: object"
      ]
     },
     "execution_count": 678,
     "metadata": {},
     "output_type": "execute_result"
    }
   ],
   "source": [
    "pib_life.dtypes"
   ]
  },
  {
   "cell_type": "code",
   "execution_count": 679,
   "metadata": {},
   "outputs": [],
   "source": [
    "pib_life.rename(columns={'2019':'PIB per capita (2019)','Value':'Satisfação de vida'},inplace=True)"
   ]
  },
  {
   "cell_type": "code",
   "execution_count": 680,
   "metadata": {},
   "outputs": [],
   "source": [
    "pib_life.dropna(subset=['PIB per capita (2019)'],inplace=True)"
   ]
  },
  {
   "cell_type": "code",
   "execution_count": 681,
   "metadata": {},
   "outputs": [],
   "source": [
    "pib_life['PIB per capita (2019)'] = pib_life['PIB per capita (2019)'].apply(lambda x: x.replace(',','.'))\n",
    "pib_life['PIB per capita (2019)'] = pib_life['PIB per capita (2019)'].apply(lambda x: x.replace('.',''))"
   ]
  },
  {
   "cell_type": "code",
   "execution_count": 682,
   "metadata": {},
   "outputs": [],
   "source": [
    "pib_life['PIB per capita (2019)'] = pd.to_numeric(pib_life['PIB per capita (2019)'],errors='coerce')"
   ]
  },
  {
   "cell_type": "code",
   "execution_count": 683,
   "metadata": {},
   "outputs": [
    {
     "data": {
      "text/html": [
       "<div>\n",
       "<style scoped>\n",
       "    .dataframe tbody tr th:only-of-type {\n",
       "        vertical-align: middle;\n",
       "    }\n",
       "\n",
       "    .dataframe tbody tr th {\n",
       "        vertical-align: top;\n",
       "    }\n",
       "\n",
       "    .dataframe thead th {\n",
       "        text-align: right;\n",
       "    }\n",
       "</style>\n",
       "<table border=\"1\" class=\"dataframe\">\n",
       "  <thead>\n",
       "    <tr style=\"text-align: right;\">\n",
       "      <th></th>\n",
       "      <th>Country</th>\n",
       "      <th>PIB per capita (2019)</th>\n",
       "      <th>Satisfação de vida</th>\n",
       "    </tr>\n",
       "  </thead>\n",
       "  <tbody>\n",
       "    <tr>\n",
       "      <th>23</th>\n",
       "      <td>Brazil</td>\n",
       "      <td>8751381</td>\n",
       "      <td>6.4</td>\n",
       "    </tr>\n",
       "  </tbody>\n",
       "</table>\n",
       "</div>"
      ],
      "text/plain": [
       "   Country  PIB per capita (2019)  Satisfação de vida\n",
       "23  Brazil                8751381                 6.4"
      ]
     },
     "execution_count": 683,
     "metadata": {},
     "output_type": "execute_result"
    }
   ],
   "source": [
    "pib_life.loc[pib_life['Country'] == 'Brazil']"
   ]
  },
  {
   "cell_type": "code",
   "execution_count": 684,
   "metadata": {},
   "outputs": [],
   "source": [
    "pib_life.dropna(subset=['Satisfação de vida'],inplace=True)"
   ]
  },
  {
   "cell_type": "code",
   "execution_count": 685,
   "metadata": {},
   "outputs": [
    {
     "data": {
      "text/plain": [
       "Country                  0\n",
       "PIB per capita (2019)    0\n",
       "Satisfação de vida       0\n",
       "dtype: int64"
      ]
     },
     "execution_count": 685,
     "metadata": {},
     "output_type": "execute_result"
    }
   ],
   "source": [
    "pib_life.isnull().sum()"
   ]
  },
  {
   "cell_type": "code",
   "execution_count": 686,
   "metadata": {},
   "outputs": [
    {
     "data": {
      "image/png": "[encoded data removed]",
      "text/plain": [
       "<Figure size 432x288 with 1 Axes>"
      ]
     },
     "metadata": {
      "needs_background": "light"
     },
     "output_type": "display_data"
    }
   ],
   "source": [
    "plt.scatter(x=pib_life['PIB per capita (2019)'],y=pib_life['Satisfação de vida'],color='blue',marker='*')\n",
    "plt.xlabel('PIB per capita')\n",
    "plt.ylabel('Satisfação de vida')\n",
    "plt.show()"
   ]
  },
  {
   "cell_type": "markdown",
   "metadata": {},
   "source": [
    "# Regressão Linear"
   ]
  },
  {
   "cell_type": "code",
   "execution_count": 687,
   "metadata": {},
   "outputs": [],
   "source": [
    "X = np.c_[pib_life['PIB per capita (2019)']].copy()\n",
    "y = np.c_[pib_life['Satisfação de vida']].copy()"
   ]
  },
  {
   "cell_type": "code",
   "execution_count": 688,
   "metadata": {},
   "outputs": [],
   "source": [
    "X_train, X_test, y_train, y_test = train_test_split(X, y, test_size=0.2, random_state=42)"
   ]
  },
  {
   "cell_type": "code",
   "execution_count": 689,
   "metadata": {},
   "outputs": [],
   "source": [
    "model = LinearRegression()"
   ]
  },
  {
   "cell_type": "code",
   "execution_count": 690,
   "metadata": {},
   "outputs": [],
   "source": [
    "modelo = model.fit(X_train,y_train)"
   ]
  },
  {
   "cell_type": "code",
   "execution_count": 691,
   "metadata": {},
   "outputs": [
    {
     "name": "stdout",
     "output_type": "stream",
     "text": [
      "(A) Intercepto:  [5.73317394]\n",
      "(B) Inclinação:  [[2.04464792e-08]]\n"
     ]
    }
   ],
   "source": [
    "print('(A) Intercepto: ', modelo.intercept_)\n",
    "print('(B) Inclinação: ', modelo.coef_)"
   ]
  },
  {
   "cell_type": "code",
   "execution_count": 696,
   "metadata": {},
   "outputs": [
    {
     "data": {
      "image/png": "[encoded data removed]",
      "text/plain": [
       "<Figure size 432x288 with 1 Axes>"
      ]
     },
     "metadata": {
      "needs_background": "light"
     },
     "output_type": "display_data"
    }
   ],
   "source": [
    "plt.scatter(X_train, y_train, color='blue',marker='*')\n",
    "plt.plot(X_test, modelo.coef_[0][0]*X_test + modelo.intercept_[0], '-r')\n",
    "plt.xlabel('PIB per capita')\n",
    "plt.ylabel('Satisfação de vida')\n",
    "plt.show()"
   ]
  },
  {
   "cell_type": "code",
   "execution_count": 667,
   "metadata": {},
   "outputs": [
    {
     "data": {
      "text/plain": [
       "array([[6.5562661 ],\n",
       "       [7.37920557],\n",
       "       [7.12061444],\n",
       "       [6.58510993],\n",
       "       [6.67926764],\n",
       "       [6.68337546],\n",
       "       [5.92027685],\n",
       "       [7.2726799 ]])"
      ]
     },
     "execution_count": 667,
     "metadata": {},
     "output_type": "execute_result"
    }
   ],
   "source": [
    "predict = model.predict(X_test)\n",
    "predict"
   ]
  }
 ],
 "metadata": {
  "kernelspec": {
   "display_name": "Python 3",
   "language": "python",
   "name": "python3"
  },
  "language_info": {
   "codemirror_mode": {
    "name": "ipython",
    "version": 3
   },
   "file_extension": ".py",
   "mimetype": "text/x-python",
   "name": "python",
   "nbconvert_exporter": "python",
   "pygments_lexer": "ipython3",
   "version": "3.7.4"
  }
 },
 "nbformat": 4,
 "nbformat_minor": 2
}
